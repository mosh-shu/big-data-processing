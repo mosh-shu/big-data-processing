{
 "cells": [
  {
   "cell_type": "code",
   "execution_count": 12,
   "metadata": {},
   "outputs": [],
   "source": [
    "# -*- coding: utf-8 -*-\n",
    "\n",
    "import csv \n",
    "import re \n",
    "\n",
    "fp = open('test.csv', 'w', encoding='utf-8-sig')\n",
    "\n",
    "f = open(\"20160414.txt\",\"r\", encoding='utf-8-sig')\n",
    "\n",
    "rows1=[] \n",
    "for row in f: \n",
    "    rows = re.split('\\n',row) \n",
    "    rows1.append(rows)\n",
    "\n",
    "w = csv.writer(fp,delimiter=',') \n",
    "w.writerow(rows1) \n",
    "f.close()"
   ]
  },
  {
   "cell_type": "code",
   "execution_count": null,
   "metadata": {},
   "outputs": [],
   "source": []
  }
 ],
 "metadata": {
  "kernelspec": {
   "display_name": "Python 3",
   "language": "python",
   "name": "python3"
  },
  "language_info": {
   "codemirror_mode": {
    "name": "ipython",
    "version": 3
   },
   "file_extension": ".py",
   "mimetype": "text/x-python",
   "name": "python",
   "nbconvert_exporter": "python",
   "pygments_lexer": "ipython3",
   "version": "3.7.0"
  }
 },
 "nbformat": 4,
 "nbformat_minor": 2
}
